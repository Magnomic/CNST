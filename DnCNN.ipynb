{
 "cells": [
  {
   "cell_type": "code",
   "execution_count": 1,
   "id": "829dbdae-234e-4c51-a130-3ccf9f517a63",
   "metadata": {
    "tags": []
   },
   "outputs": [
    {
     "name": "stderr",
     "output_type": "stream",
     "text": [
      "/home/visitor/anaconda3/envs/1DCNN/lib/python3.10/site-packages/tqdm/auto.py:21: TqdmWarning: IProgress not found. Please update jupyter and ipywidgets. See https://ipywidgets.readthedocs.io/en/stable/user_install.html\n",
      "  from .autonotebook import tqdm as notebook_tqdm\n"
     ]
    }
   ],
   "source": [
    "import os\n",
    "import argparse\n",
    "import numpy as np\n",
    "import torch\n",
    "import torch.nn as nn\n",
    "import torch.optim as optim\n",
    "import torchvision.utils as utils\n",
    "from torch.autograd import Variable\n",
    "from torch.utils.data import DataLoader\n",
    "from torch.utils.data import DataLoader, Dataset\n",
    "from tensorboardX import SummaryWriter\n",
    "\n",
    "writer = SummaryWriter(\"logs\")\n",
    "\n",
    "class DnCNN(nn.Module):\n",
    "    def __init__(self, channels, num_of_layers=17):\n",
    "        super(DnCNN, self).__init__()\n",
    "        kernel_size = 3\n",
    "        padding = 1\n",
    "        features = 64\n",
    "        layers = []\n",
    "        layers.append(nn.Conv1d(in_channels=channels, out_channels=features, kernel_size=kernel_size, padding=padding, bias=False))\n",
    "        layers.append(nn.ReLU(inplace=True))\n",
    "        for _ in range(num_of_layers-2):\n",
    "            layers.append(nn.Conv1d(in_channels=features, out_channels=features, kernel_size=kernel_size, padding=padding, bias=False))\n",
    "            layers.append(nn.BatchNorm1d(features))\n",
    "            layers.append(nn.ReLU(inplace=True))\n",
    "        layers.append(nn.Conv1d(in_channels=features, out_channels=channels, kernel_size=kernel_size, padding=padding, bias=False))\n",
    "        self.dncnn = nn.Sequential(*layers)\n",
    "    def forward(self, x):\n",
    "        out = self.dncnn(x.to(torch.float32))\n",
    "        return out"
   ]
  },
  {
   "cell_type": "code",
   "execution_count": 2,
   "id": "5b828e5a-32c3-48cf-92d4-ee6e989cb6d2",
   "metadata": {
    "tags": []
   },
   "outputs": [],
   "source": [
    "class MyDataset(Dataset):\n",
    "    def __init__(self, data_dir, noisy_dir, is_train):\n",
    "        self.x = None\n",
    "        self.y = None\n",
    "        f_list = os.listdir(data_dir)\n",
    "        if is_train: \n",
    "            for idx in range(min(sample_num, len(f_list))):\n",
    "                if self.x is None:\n",
    "                    self.x = np.load(data_dir + str(idx+1) + '.npy')[:180, :]\n",
    "                    self.y = np.load(noisy_dir + str(idx+1) + '.npy')[:180, :]\n",
    "                else:\n",
    "                    self.x = np.concatenate((self.x, np.load(data_dir + str(idx+1) + '.npy')[:180, :]))\n",
    "                    self.y = np.concatenate((self.y, np.load(noisy_dir + str(idx+1) + '.npy')[:180, :]))\n",
    "        else:\n",
    "            for idx in range(min(sample_num, len(f_list))):\n",
    "                if self.x is None:\n",
    "                    self.x = np.load(data_dir + str(idx+1) + '.npy')[180:, :]\n",
    "                    self.y = np.load(noisy_dir + str(idx+1) + '.npy')[180:, :]\n",
    "                else:\n",
    "                    self.x = np.concatenate((self.x, np.load(data_dir + str(idx+1) + '.npy')[180:, :]))\n",
    "                    self.y = np.concatenate((self.y, np.load(noisy_dir + str(idx+1) + '.npy')[180:, :]))\n",
    "        \n",
    "    def __len__(self):\n",
    "        return len(self.x)\n",
    "    \n",
    "    def __getitem__(self, idx):\n",
    "        x = self.x[idx]\n",
    "        y = self.y[idx]\n",
    "        return x, y\n"
   ]
  },
  {
   "cell_type": "code",
   "execution_count": 3,
   "id": "16eafabb-347e-4af3-9845-9d13a9759ba8",
   "metadata": {
    "tags": []
   },
   "outputs": [],
   "source": [
    "def batch_PSNR(img, imclean):\n",
    "    print(img.shape)\n",
    "    print(imclean.shape)\n",
    "    mse = np.mean((imclean - img) ** 2)\n",
    "    if mse == 0:\n",
    "        return 100\n",
    "    max_pixel = 1.0\n",
    "    psnr = 20 * np.log10(max_pixel / np.sqrt(mse))\n",
    "    return psnr"
   ]
  },
  {
   "cell_type": "code",
   "execution_count": 20,
   "id": "337ddfda-595c-4ddb-af25-b9b83c47175d",
   "metadata": {
    "tags": []
   },
   "outputs": [
    {
     "name": "stderr",
     "output_type": "stream",
     "text": [
      "/home/visitor/anaconda3/envs/1DCNN/lib/python3.10/site-packages/torch/nn/_reduction.py:42: UserWarning: size_average and reduce args will be deprecated, please use reduction='sum' instead.\n",
      "  warnings.warn(warning.format(ret))\n"
     ]
    },
    {
     "name": "stdout",
     "output_type": "stream",
     "text": [
      "50.029788970947266\n"
     ]
    },
    {
     "name": "stderr",
     "output_type": "stream",
     "text": [
      "/tmp/ipykernel_949836/3442912045.py:81: UserWarning: volatile was removed and now has no effect. Use `with torch.no_grad():` instead.\n",
      "  img_val, imgn_val = Variable(img_val.cuda(), volatile=True), Variable(imgn_val.cuda(), volatile=True)\n"
     ]
    },
    {
     "name": "stdout",
     "output_type": "stream",
     "text": [
      "0.6621655225753784\n",
      "0.6204601526260376\n",
      "0.5255988240242004\n",
      "0.5000851154327393\n",
      "0.5888689756393433\n",
      "0.44213366508483887\n",
      "0.41677188873291016\n",
      "0.43133825063705444\n",
      "0.41403841972351074\n",
      "0.42749494314193726\n",
      "0.4326997995376587\n",
      "0.3898671269416809\n",
      "0.41303274035453796\n",
      "0.40201258659362793\n",
      "0.402098149061203\n"
     ]
    },
    {
     "ename": "KeyboardInterrupt",
     "evalue": "",
     "output_type": "error",
     "traceback": [
      "\u001b[0;31m---------------------------------------------------------------------------\u001b[0m",
      "\u001b[0;31mKeyboardInterrupt\u001b[0m                         Traceback (most recent call last)",
      "Cell \u001b[0;32mIn[20], line 48\u001b[0m\n\u001b[1;32m     46\u001b[0m model\u001b[38;5;241m.\u001b[39mzero_grad()\n\u001b[1;32m     47\u001b[0m optimizer\u001b[38;5;241m.\u001b[39mzero_grad()\n\u001b[0;32m---> 48\u001b[0m img_train \u001b[38;5;241m=\u001b[39m Variable(\u001b[43mdata\u001b[49m\u001b[43m[\u001b[49m\u001b[38;5;241;43m0\u001b[39;49m\u001b[43m]\u001b[49m\u001b[38;5;241;43m.\u001b[39;49m\u001b[43mcuda\u001b[49m\u001b[43m(\u001b[49m\u001b[43m)\u001b[49m)\u001b[38;5;241m.\u001b[39munsqueeze(\u001b[38;5;241m1\u001b[39m)\u001b[38;5;241m.\u001b[39mto(torch\u001b[38;5;241m.\u001b[39mfloat32)\n\u001b[1;32m     49\u001b[0m imgn_train \u001b[38;5;241m=\u001b[39m Variable(data[\u001b[38;5;241m1\u001b[39m]\u001b[38;5;241m.\u001b[39mcuda())\u001b[38;5;241m.\u001b[39munsqueeze(\u001b[38;5;241m1\u001b[39m)\u001b[38;5;241m.\u001b[39mto(torch\u001b[38;5;241m.\u001b[39mfloat32)\n\u001b[1;32m     50\u001b[0m noise \u001b[38;5;241m=\u001b[39m Variable((data[\u001b[38;5;241m1\u001b[39m]\u001b[38;5;241m-\u001b[39mdata[\u001b[38;5;241m0\u001b[39m])\u001b[38;5;241m.\u001b[39mcuda())\u001b[38;5;241m.\u001b[39munsqueeze(\u001b[38;5;241m1\u001b[39m)\u001b[38;5;241m.\u001b[39mto(torch\u001b[38;5;241m.\u001b[39mfloat32)\n",
      "\u001b[0;31mKeyboardInterrupt\u001b[0m: "
     ]
    }
   ],
   "source": [
    "device = torch.device(\"cpu\")\n",
    "\n",
    "parser = argparse.ArgumentParser(description=\"DnCNN\")\n",
    "parser.add_argument(\"--preprocess\", type=bool, default=False, help='run prepare_data or not')\n",
    "parser.add_argument(\"--batchSize\", type=int, default=64, help=\"Training batch size\")\n",
    "parser.add_argument(\"--num_of_layers\", type=int, default=17, help=\"Number of total layers\")\n",
    "parser.add_argument(\"--epochs\", type=int, default=500, help=\"Number of training epochs\")\n",
    "parser.add_argument(\"--milestone\", type=int, default=30, help=\"When to decay learning rate; should be less than epochs\")\n",
    "parser.add_argument(\"--lr\", type=float, default=1e-3, help=\"Initial learning rate\")\n",
    "parser.add_argument(\"--outf\", type=str, default=\".\", help='path of log files')\n",
    "parser.add_argument(\"--mode\", type=str, default=\"B\", help='with known noise level (S) or blind training (B)')\n",
    "parser.add_argument(\"--noiseL\", type=float, default=25, help='noise level; ignored when mode=B')\n",
    "parser.add_argument(\"--val_noiseL\", type=float, default=25, help='noise level used on validation set')\n",
    "\n",
    "opt = parser.parse_args(args=[])  \n",
    "\n",
    "sample_num = 15\n",
    "# 构建模型、优化器和损失函数\n",
    "model = DnCNN(1).cuda()\n",
    "# print(model)\n",
    "\n",
    "optimizer = optim.Adam(model.parameters(), lr=0.00002)\n",
    "criterion = nn.MSELoss(size_average=False)\n",
    "\n",
    "clean_dataset = 'data/clean_npy/'\n",
    "noisy_dataset = 'data/CNT_noisy_final/'\n",
    "\n",
    "trian_data_dir = []\n",
    "# train_dataset = MyDataset('data/clean_npy/', 'data/noisy_npy/', True)\n",
    "train_dataset = MyDataset(clean_dataset, noisy_dataset, True)\n",
    "train_loader = DataLoader(train_dataset, batch_size=128, shuffle=True)\n",
    "step = 0\n",
    "for epoch in range(opt.epochs):\n",
    "    if epoch < opt.milestone:\n",
    "        current_lr = opt.lr\n",
    "    else:\n",
    "        current_lr = opt.lr / 10.\n",
    "    # set learning rate\n",
    "    for param_group in optimizer.param_groups:\n",
    "        param_group[\"lr\"] = current_lr\n",
    "    # print('learning rate %f' % current_lr)\n",
    "    # train\n",
    "    for i, data in enumerate(train_loader):\n",
    "        # training step\n",
    "        model.train()\n",
    "        model.zero_grad()\n",
    "        optimizer.zero_grad()\n",
    "        img_train = Variable(data[0].cuda()).unsqueeze(1).to(torch.float32)\n",
    "        imgn_train = Variable(data[1].cuda()).unsqueeze(1).to(torch.float32)\n",
    "        noise = Variable((data[1]-data[0]).cuda()).unsqueeze(1).to(torch.float32)\n",
    "        out_train = model(imgn_train)\n",
    "        # print((out_train - noise).shape)\n",
    "        # print(criterion(out_train, noise))\n",
    "        loss = criterion(out_train, noise) / (imgn_train.size()[0]*2)\n",
    "        loss.backward()\n",
    "        optimizer.step()\n",
    "        # results\n",
    "        model.eval()\n",
    "        out_train = torch.clamp(imgn_train-model(imgn_train), 0., 1.)\n",
    "        # psnr_train = batch_PSNR(out_train, img_train)\n",
    "        # print(\"[epoch %d][%d/%d] loss: %.4f PSNR_train: %.4f\" %\n",
    "        #     (epoch+1, i+1, len(loader_train), loss.item(), psnr_train))\n",
    "        # if you are using older version of PyTorch, you may need to change loss.item() to loss.data[0]\n",
    "        if step % 100 == 0:\n",
    "            # Log the scalar values\n",
    "            print(loss.item())\n",
    "        # writer.add_scalar('loss', loss.item(), step)\n",
    "            # writer.add_scalar('PSNR on training data', psnr_train, step)\n",
    "        step += 1\n",
    "    ## the end of each epoch\n",
    "    model.eval()\n",
    "    # validate\n",
    "    psnr_val = 0\n",
    "    \n",
    "    val_dataset = MyDataset(clean_dataset, noisy_dataset, False)\n",
    "    val_loader = DataLoader(val_dataset, batch_size=128, shuffle=True)\n",
    "    for i, data in enumerate(val_loader, 0):\n",
    "        img_val = torch.unsqueeze(data[0], 1)\n",
    "        noise = data[1] - data[0]\n",
    "        imgn_val = torch.unsqueeze(data[1], 1)\n",
    "        img_val, imgn_val = Variable(img_val.cuda(), volatile=True), Variable(imgn_val.cuda(), volatile=True)\n",
    "        out_val = torch.clamp(imgn_val-model(imgn_val), 0., 1.)\n",
    "        # psnr_val += batch_PSNR(out_val, img_val)\n",
    "    # psnr_val /= len(dataset_val)\n",
    "    # print(\"\\n[epoch %d] PSNR_val: %.4f\" % (epoch+1, psnr_val))\n",
    "    # writer.add_scalar('PSNR on validation data', psnr_val, epoch)\n",
    "    # log the images\n",
    "    # out_train = torch.clamp(imgn_train-model(imgn_train), 0., 1.)\n",
    "    # Img = utils.make_grid(img_train.data, nrow=8, normalize=True, scale_each=True)\n",
    "    # Imgn = utils.make_grid(imgn_train.data, nrow=8, normalize=True, scale_each=True)\n",
    "    # Irecon = utils.make_grid(out_train.data, nrow=8, normalize=True, scale_each=True)\n",
    "    # writer.add_image('clean image', Img, epoch)\n",
    "    # writer.add_image('noisy image', Imgn, epoch)\n",
    "    # writer.add_image('reconstructed image', Irecon, epoch)\n",
    "    # save model\n",
    "    if step % 100 == 0:\n",
    "        torch.save(model.state_dict(), os.path.join(opt.outf, 'net-1.pth'))"
   ]
  },
  {
   "cell_type": "code",
   "execution_count": 21,
   "id": "4ebd878d-4e09-4b3b-a67c-38f4ba1df705",
   "metadata": {},
   "outputs": [
    {
     "data": {
      "text/plain": [
       "<All keys matched successfully>"
      ]
     },
     "execution_count": 21,
     "metadata": {},
     "output_type": "execute_result"
    }
   ],
   "source": [
    "model_dncnn = DnCNN(1)\n",
    "# model_dncnn.load_state_dict(torch.load(\"R-noisy-clean.pth\"))\n",
    "model_dncnn.load_state_dict(torch.load(\"net-1.pth\"))"
   ]
  },
  {
   "cell_type": "code",
   "execution_count": 22,
   "id": "bdb8439d-25dc-4d7e-ae2e-55fbfed3796a",
   "metadata": {},
   "outputs": [],
   "source": [
    "model_dncnn.eval()\n",
    "Tensor = torch.cuda.FloatTensor\n",
    "input_A = Tensor(1, 1, 1000)"
   ]
  },
  {
   "cell_type": "code",
   "execution_count": 23,
   "id": "06524ca3-8618-4afe-8f8d-862431b60056",
   "metadata": {
    "tags": []
   },
   "outputs": [],
   "source": [
    "sample_num = 15\n",
    "val_dataset = MyDataset(clean_dataset, 'data/noisy_npy/', False)\n",
    "val_loader = DataLoader(val_dataset, batch_size=128, shuffle=False)"
   ]
  },
  {
   "cell_type": "code",
   "execution_count": 24,
   "id": "f0d19618-6664-425f-a693-c7a2bcc17d76",
   "metadata": {
    "tags": []
   },
   "outputs": [],
   "source": [
    "out = []\n",
    "for i in range(len(val_dataset)):\n",
    "    _, y = val_dataset[i]\n",
    "    result = model_dncnn(torch.from_numpy(y).unsqueeze(0).unsqueeze(0)).detach().numpy()\n",
    "    out.append(y - result[0][0])\n",
    "    if (i+1) % 20 == 0:\n",
    "        np.save(\"data/R-noisy-clean/{}\".format(i//20+1), np.asarray(out)) # DnCNN-noisy-clean R-noisy-clean\n",
    "        out = []\n",
    "    "
   ]
  },
  {
   "cell_type": "code",
   "execution_count": 19,
   "id": "105a9505-d7fa-4247-9bb8-3ce6a2617c2c",
   "metadata": {
    "tags": []
   },
   "outputs": [
    {
     "ename": "IndexError",
     "evalue": "list index out of range",
     "output_type": "error",
     "traceback": [
      "\u001b[0;31m---------------------------------------------------------------------------\u001b[0m",
      "\u001b[0;31mIndexError\u001b[0m                                Traceback (most recent call last)",
      "Cell \u001b[0;32mIn[19], line 3\u001b[0m\n\u001b[1;32m      1\u001b[0m \u001b[38;5;28;01mimport\u001b[39;00m \u001b[38;5;21;01mmatplotlib\u001b[39;00m\u001b[38;5;21;01m.\u001b[39;00m\u001b[38;5;21;01mpyplot\u001b[39;00m \u001b[38;5;28;01mas\u001b[39;00m \u001b[38;5;21;01mplt\u001b[39;00m\n\u001b[1;32m      2\u001b[0m \u001b[38;5;66;03m# plt.plot(val_dataset[1][1]-result[0][0])\u001b[39;00m\n\u001b[0;32m----> 3\u001b[0m plt\u001b[38;5;241m.\u001b[39mplot(\u001b[43mout\u001b[49m\u001b[43m[\u001b[49m\u001b[38;5;241;43m1\u001b[39;49m\u001b[43m]\u001b[49m)\n",
      "\u001b[0;31mIndexError\u001b[0m: list index out of range"
     ]
    }
   ],
   "source": [
    "import matplotlib.pyplot as plt\n",
    "# plt.plot(val_dataset[1][1]-result[0][0])\n",
    "plt.plot(out[1])"
   ]
  },
  {
   "cell_type": "code",
   "execution_count": 10,
   "id": "02c6113f-e282-4a69-8f0b-f58605c78b65",
   "metadata": {
    "tags": []
   },
   "outputs": [
    {
     "data": {
      "text/plain": [
       "[<matplotlib.lines.Line2D at 0x7fbad3bf2b60>]"
      ]
     },
     "execution_count": 10,
     "metadata": {},
     "output_type": "execute_result"
    },
    {
     "data": {
      "image/png": "[encoded data removed]",
      "text/plain": [
       "<Figure size 640x480 with 1 Axes>"
      ]
     },
     "metadata": {},
     "output_type": "display_data"
    }
   ],
   "source": [
    "import matplotlib.pyplot as plt\n",
    "plt.plot(val_dataset[1][1])"
   ]
  },
  {
   "cell_type": "code",
   "execution_count": 36,
   "id": "d96a8a04-84bf-467a-a255-8659b1d9a447",
   "metadata": {
    "tags": []
   },
   "outputs": [
    {
     "name": "stdout",
     "output_type": "stream",
     "text": [
      "/bin/bash: /home/visitor/anaconda3/envs/1DCNN/lib/libtinfo.so.6: no version information available (required by /bin/bash)\n",
      "Looking in indexes: https://mirror.baidu.com/pypi/simple, https://pypi.ngc.nvidia.com\n",
      "Collecting tensorboardX\n",
      "  Downloading https://mirror.baidu.com/pypi/packages/60/9f/d532d37f10ac7af136d4c2ba71e1fe7af0f3cc0cc076dfc05826171e9737/tensorboardX-2.6-py2.py3-none-any.whl (114 kB)\n",
      "\u001b[2K     \u001b[90m━━━━━━━━━━━━━━━━━━━━━━━━━━━━━━━━━━━━━━━\u001b[0m \u001b[32m114.5/114.5 kB\u001b[0m \u001b[31m2.4 MB/s\u001b[0m eta \u001b[36m0:00:00\u001b[0ma \u001b[36m0:00:01\u001b[0m\n",
      "\u001b[?25hRequirement already satisfied: numpy in /home/visitor/anaconda3/envs/1DCNN/lib/python3.10/site-packages (from tensorboardX) (1.23.5)\n",
      "Requirement already satisfied: packaging in /home/visitor/anaconda3/envs/1DCNN/lib/python3.10/site-packages (from tensorboardX) (22.0)\n",
      "Requirement already satisfied: protobuf<4,>=3.8.0 in /home/visitor/.local/lib/python3.10/site-packages (from tensorboardX) (3.19.6)\n",
      "Installing collected packages: tensorboardX\n",
      "Successfully installed tensorboardX-2.6\n"
     ]
    }
   ],
   "source": [
    "!pip install tensorboardX"
   ]
  },
  {
   "cell_type": "code",
   "execution_count": null,
   "id": "d36cd091-375e-449e-bae3-32783d174558",
   "metadata": {},
   "outputs": [],
   "source": []
  }
 ],
 "metadata": {
  "kernelspec": {
   "display_name": "1DCNN",
   "language": "python",
   "name": "1dcnn"
  },
  "language_info": {
   "codemirror_mode": {
    "name": "ipython",
    "version": 3
   },
   "file_extension": ".py",
   "mimetype": "text/x-python",
   "name": "python",
   "nbconvert_exporter": "python",
   "pygments_lexer": "ipython3",
   "version": "3.10.9"
  }
 },
 "nbformat": 4,
 "nbformat_minor": 5
}
