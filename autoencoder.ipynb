{
 "cells": [
  {
   "cell_type": "code",
   "execution_count": 9,
   "id": "93be1050-b3f6-47f1-ae97-52e5f40881ab",
   "metadata": {
    "tags": []
   },
   "outputs": [],
   "source": [
    "import os\n",
    "import numpy as np\n",
    "from keras.datasets import mnist\n",
    "import matplotlib.pyplot as plt\n",
    "from tqdm import tqdm\n",
    "from torchvision import transforms\n",
    "import torch.nn as nn\n",
    "import random\n",
    "from torch.utils.data import DataLoader,Dataset\n",
    "import torch\n",
    "import torch.optim as optim\n",
    "from torch.autograd import Variable"
   ]
  },
  {
   "cell_type": "code",
   "execution_count": 16,
   "id": "9d7d2427-f6ce-4cf7-ad26-42130688d10b",
   "metadata": {
    "tags": []
   },
   "outputs": [
    {
     "name": "stdout",
     "output_type": "stream",
     "text": [
      "113\n",
      "Entering Epoch:  0\n"
     ]
    },
    {
     "name": "stderr",
     "output_type": "stream",
     "text": [
      "100%|███████████████████████████████████████████████████████████████████████████████████████████| 113/113 [00:00<00:00, 186.74it/s]\n"
     ]
    },
    {
     "name": "stdout",
     "output_type": "stream",
     "text": [
      "======> epoch: 0/60, Loss:0.03394058346748352\n",
      "Entering Epoch:  1\n"
     ]
    },
    {
     "name": "stderr",
     "output_type": "stream",
     "text": [
      "100%|███████████████████████████████████████████████████████████████████████████████████████████| 113/113 [00:00<00:00, 249.19it/s]\n"
     ]
    },
    {
     "name": "stdout",
     "output_type": "stream",
     "text": [
      "Entering Epoch:  2\n"
     ]
    },
    {
     "name": "stderr",
     "output_type": "stream",
     "text": [
      "100%|███████████████████████████████████████████████████████████████████████████████████████████| 113/113 [00:00<00:00, 179.74it/s]\n"
     ]
    },
    {
     "name": "stdout",
     "output_type": "stream",
     "text": [
      "Entering Epoch:  3\n"
     ]
    },
    {
     "name": "stderr",
     "output_type": "stream",
     "text": [
      "100%|███████████████████████████████████████████████████████████████████████████████████████████| 113/113 [00:00<00:00, 190.27it/s]\n"
     ]
    },
    {
     "name": "stdout",
     "output_type": "stream",
     "text": [
      "Entering Epoch:  4\n"
     ]
    },
    {
     "name": "stderr",
     "output_type": "stream",
     "text": [
      "100%|███████████████████████████████████████████████████████████████████████████████████████████| 113/113 [00:00<00:00, 170.41it/s]\n"
     ]
    },
    {
     "name": "stdout",
     "output_type": "stream",
     "text": [
      "Entering Epoch:  5\n"
     ]
    },
    {
     "name": "stderr",
     "output_type": "stream",
     "text": [
      "100%|███████████████████████████████████████████████████████████████████████████████████████████| 113/113 [00:00<00:00, 249.22it/s]\n"
     ]
    },
    {
     "name": "stdout",
     "output_type": "stream",
     "text": [
      "Entering Epoch:  6\n"
     ]
    },
    {
     "name": "stderr",
     "output_type": "stream",
     "text": [
      "100%|███████████████████████████████████████████████████████████████████████████████████████████| 113/113 [00:00<00:00, 172.60it/s]\n"
     ]
    },
    {
     "name": "stdout",
     "output_type": "stream",
     "text": [
      "Entering Epoch:  7\n"
     ]
    },
    {
     "name": "stderr",
     "output_type": "stream",
     "text": [
      "100%|███████████████████████████████████████████████████████████████████████████████████████████| 113/113 [00:00<00:00, 240.25it/s]\n"
     ]
    },
    {
     "name": "stdout",
     "output_type": "stream",
     "text": [
      "Entering Epoch:  8\n"
     ]
    },
    {
     "name": "stderr",
     "output_type": "stream",
     "text": [
      "100%|███████████████████████████████████████████████████████████████████████████████████████████| 113/113 [00:00<00:00, 164.70it/s]\n"
     ]
    },
    {
     "name": "stdout",
     "output_type": "stream",
     "text": [
      "Entering Epoch:  9\n"
     ]
    },
    {
     "name": "stderr",
     "output_type": "stream",
     "text": [
      "100%|███████████████████████████████████████████████████████████████████████████████████████████| 113/113 [00:00<00:00, 195.32it/s]\n"
     ]
    },
    {
     "name": "stdout",
     "output_type": "stream",
     "text": [
      "Entering Epoch:  10\n"
     ]
    },
    {
     "name": "stderr",
     "output_type": "stream",
     "text": [
      "100%|███████████████████████████████████████████████████████████████████████████████████████████| 113/113 [00:00<00:00, 183.26it/s]\n"
     ]
    },
    {
     "name": "stdout",
     "output_type": "stream",
     "text": [
      "======> epoch: 10/60, Loss:0.000522487738635391\n",
      "Entering Epoch:  11\n"
     ]
    },
    {
     "name": "stderr",
     "output_type": "stream",
     "text": [
      "100%|███████████████████████████████████████████████████████████████████████████████████████████| 113/113 [00:00<00:00, 190.74it/s]\n"
     ]
    },
    {
     "name": "stdout",
     "output_type": "stream",
     "text": [
      "Entering Epoch:  12\n"
     ]
    },
    {
     "name": "stderr",
     "output_type": "stream",
     "text": [
      "100%|███████████████████████████████████████████████████████████████████████████████████████████| 113/113 [00:00<00:00, 177.11it/s]\n"
     ]
    },
    {
     "name": "stdout",
     "output_type": "stream",
     "text": [
      "Entering Epoch:  13\n"
     ]
    },
    {
     "name": "stderr",
     "output_type": "stream",
     "text": [
      "100%|███████████████████████████████████████████████████████████████████████████████████████████| 113/113 [00:00<00:00, 153.71it/s]\n"
     ]
    },
    {
     "name": "stdout",
     "output_type": "stream",
     "text": [
      "Entering Epoch:  14\n"
     ]
    },
    {
     "name": "stderr",
     "output_type": "stream",
     "text": [
      "100%|███████████████████████████████████████████████████████████████████████████████████████████| 113/113 [00:00<00:00, 171.12it/s]\n"
     ]
    },
    {
     "name": "stdout",
     "output_type": "stream",
     "text": [
      "Entering Epoch:  15\n"
     ]
    },
    {
     "name": "stderr",
     "output_type": "stream",
     "text": [
      "100%|███████████████████████████████████████████████████████████████████████████████████████████| 113/113 [00:00<00:00, 164.97it/s]\n"
     ]
    },
    {
     "name": "stdout",
     "output_type": "stream",
     "text": [
      "Entering Epoch:  16\n"
     ]
    },
    {
     "name": "stderr",
     "output_type": "stream",
     "text": [
      "100%|███████████████████████████████████████████████████████████████████████████████████████████| 113/113 [00:00<00:00, 182.62it/s]\n"
     ]
    },
    {
     "name": "stdout",
     "output_type": "stream",
     "text": [
      "Entering Epoch:  17\n"
     ]
    },
    {
     "name": "stderr",
     "output_type": "stream",
     "text": [
      "100%|███████████████████████████████████████████████████████████████████████████████████████████| 113/113 [00:00<00:00, 168.65it/s]\n"
     ]
    },
    {
     "name": "stdout",
     "output_type": "stream",
     "text": [
      "Entering Epoch:  18\n"
     ]
    },
    {
     "name": "stderr",
     "output_type": "stream",
     "text": [
      "100%|███████████████████████████████████████████████████████████████████████████████████████████| 113/113 [00:00<00:00, 173.45it/s]\n"
     ]
    },
    {
     "name": "stdout",
     "output_type": "stream",
     "text": [
      "Entering Epoch:  19\n"
     ]
    },
    {
     "name": "stderr",
     "output_type": "stream",
     "text": [
      "100%|███████████████████████████████████████████████████████████████████████████████████████████| 113/113 [00:00<00:00, 168.50it/s]\n"
     ]
    },
    {
     "name": "stdout",
     "output_type": "stream",
     "text": [
      "Entering Epoch:  20\n"
     ]
    },
    {
     "name": "stderr",
     "output_type": "stream",
     "text": [
      "100%|███████████████████████████████████████████████████████████████████████████████████████████| 113/113 [00:00<00:00, 178.59it/s]\n"
     ]
    },
    {
     "name": "stdout",
     "output_type": "stream",
     "text": [
      "======> epoch: 20/60, Loss:0.0031264247372746468\n",
      "Entering Epoch:  21\n"
     ]
    },
    {
     "name": "stderr",
     "output_type": "stream",
     "text": [
      "100%|███████████████████████████████████████████████████████████████████████████████████████████| 113/113 [00:00<00:00, 166.13it/s]\n"
     ]
    },
    {
     "name": "stdout",
     "output_type": "stream",
     "text": [
      "Entering Epoch:  22\n"
     ]
    },
    {
     "name": "stderr",
     "output_type": "stream",
     "text": [
      "100%|███████████████████████████████████████████████████████████████████████████████████████████| 113/113 [00:00<00:00, 182.44it/s]\n"
     ]
    },
    {
     "name": "stdout",
     "output_type": "stream",
     "text": [
      "Entering Epoch:  23\n"
     ]
    },
    {
     "name": "stderr",
     "output_type": "stream",
     "text": [
      "100%|███████████████████████████████████████████████████████████████████████████████████████████| 113/113 [00:00<00:00, 182.38it/s]\n"
     ]
    },
    {
     "name": "stdout",
     "output_type": "stream",
     "text": [
      "Entering Epoch:  24\n"
     ]
    },
    {
     "name": "stderr",
     "output_type": "stream",
     "text": [
      "100%|███████████████████████████████████████████████████████████████████████████████████████████| 113/113 [00:00<00:00, 172.07it/s]\n"
     ]
    },
    {
     "name": "stdout",
     "output_type": "stream",
     "text": [
      "Entering Epoch:  25\n"
     ]
    },
    {
     "name": "stderr",
     "output_type": "stream",
     "text": [
      "100%|███████████████████████████████████████████████████████████████████████████████████████████| 113/113 [00:00<00:00, 166.27it/s]\n"
     ]
    },
    {
     "name": "stdout",
     "output_type": "stream",
     "text": [
      "Entering Epoch:  26\n"
     ]
    },
    {
     "name": "stderr",
     "output_type": "stream",
     "text": [
      "100%|███████████████████████████████████████████████████████████████████████████████████████████| 113/113 [00:00<00:00, 166.86it/s]\n"
     ]
    },
    {
     "name": "stdout",
     "output_type": "stream",
     "text": [
      "Entering Epoch:  27\n"
     ]
    },
    {
     "name": "stderr",
     "output_type": "stream",
     "text": [
      "100%|███████████████████████████████████████████████████████████████████████████████████████████| 113/113 [00:00<00:00, 166.26it/s]\n"
     ]
    },
    {
     "name": "stdout",
     "output_type": "stream",
     "text": [
      "Entering Epoch:  28\n"
     ]
    },
    {
     "name": "stderr",
     "output_type": "stream",
     "text": [
      "100%|███████████████████████████████████████████████████████████████████████████████████████████| 113/113 [00:00<00:00, 166.28it/s]\n"
     ]
    },
    {
     "name": "stdout",
     "output_type": "stream",
     "text": [
      "Entering Epoch:  29\n"
     ]
    },
    {
     "name": "stderr",
     "output_type": "stream",
     "text": [
      "100%|███████████████████████████████████████████████████████████████████████████████████████████| 113/113 [00:00<00:00, 171.01it/s]\n"
     ]
    },
    {
     "name": "stdout",
     "output_type": "stream",
     "text": [
      "Entering Epoch:  30\n"
     ]
    },
    {
     "name": "stderr",
     "output_type": "stream",
     "text": [
      "100%|███████████████████████████████████████████████████████████████████████████████████████████| 113/113 [00:00<00:00, 168.21it/s]\n"
     ]
    },
    {
     "name": "stdout",
     "output_type": "stream",
     "text": [
      "======> epoch: 30/60, Loss:0.000806483265478164\n",
      "Entering Epoch:  31\n"
     ]
    },
    {
     "name": "stderr",
     "output_type": "stream",
     "text": [
      "100%|███████████████████████████████████████████████████████████████████████████████████████████| 113/113 [00:00<00:00, 180.13it/s]\n"
     ]
    },
    {
     "name": "stdout",
     "output_type": "stream",
     "text": [
      "Entering Epoch:  32\n"
     ]
    },
    {
     "name": "stderr",
     "output_type": "stream",
     "text": [
      "100%|███████████████████████████████████████████████████████████████████████████████████████████| 113/113 [00:00<00:00, 158.49it/s]\n"
     ]
    },
    {
     "name": "stdout",
     "output_type": "stream",
     "text": [
      "Entering Epoch:  33\n"
     ]
    },
    {
     "name": "stderr",
     "output_type": "stream",
     "text": [
      "100%|███████████████████████████████████████████████████████████████████████████████████████████| 113/113 [00:00<00:00, 168.97it/s]\n"
     ]
    },
    {
     "name": "stdout",
     "output_type": "stream",
     "text": [
      "Entering Epoch:  34\n"
     ]
    },
    {
     "name": "stderr",
     "output_type": "stream",
     "text": [
      "100%|███████████████████████████████████████████████████████████████████████████████████████████| 113/113 [00:00<00:00, 170.37it/s]\n"
     ]
    },
    {
     "name": "stdout",
     "output_type": "stream",
     "text": [
      "Entering Epoch:  35\n"
     ]
    },
    {
     "name": "stderr",
     "output_type": "stream",
     "text": [
      "100%|███████████████████████████████████████████████████████████████████████████████████████████| 113/113 [00:00<00:00, 169.94it/s]\n"
     ]
    },
    {
     "name": "stdout",
     "output_type": "stream",
     "text": [
      "Entering Epoch:  36\n"
     ]
    },
    {
     "name": "stderr",
     "output_type": "stream",
     "text": [
      "100%|███████████████████████████████████████████████████████████████████████████████████████████| 113/113 [00:00<00:00, 173.51it/s]\n"
     ]
    },
    {
     "name": "stdout",
     "output_type": "stream",
     "text": [
      "Entering Epoch:  37\n"
     ]
    },
    {
     "name": "stderr",
     "output_type": "stream",
     "text": [
      "100%|███████████████████████████████████████████████████████████████████████████████████████████| 113/113 [00:00<00:00, 164.46it/s]\n"
     ]
    },
    {
     "name": "stdout",
     "output_type": "stream",
     "text": [
      "Entering Epoch:  38\n"
     ]
    },
    {
     "name": "stderr",
     "output_type": "stream",
     "text": [
      "100%|███████████████████████████████████████████████████████████████████████████████████████████| 113/113 [00:00<00:00, 174.60it/s]\n"
     ]
    },
    {
     "name": "stdout",
     "output_type": "stream",
     "text": [
      "Entering Epoch:  39\n"
     ]
    },
    {
     "name": "stderr",
     "output_type": "stream",
     "text": [
      "100%|███████████████████████████████████████████████████████████████████████████████████████████| 113/113 [00:00<00:00, 163.46it/s]\n"
     ]
    },
    {
     "name": "stdout",
     "output_type": "stream",
     "text": [
      "Entering Epoch:  40\n"
     ]
    },
    {
     "name": "stderr",
     "output_type": "stream",
     "text": [
      "100%|███████████████████████████████████████████████████████████████████████████████████████████| 113/113 [00:00<00:00, 156.13it/s]\n"
     ]
    },
    {
     "name": "stdout",
     "output_type": "stream",
     "text": [
      "======> epoch: 40/60, Loss:0.00041955907363444567\n",
      "Entering Epoch:  41\n"
     ]
    },
    {
     "name": "stderr",
     "output_type": "stream",
     "text": [
      "100%|███████████████████████████████████████████████████████████████████████████████████████████| 113/113 [00:00<00:00, 173.90it/s]\n"
     ]
    },
    {
     "name": "stdout",
     "output_type": "stream",
     "text": [
      "Entering Epoch:  42\n"
     ]
    },
    {
     "name": "stderr",
     "output_type": "stream",
     "text": [
      "100%|███████████████████████████████████████████████████████████████████████████████████████████| 113/113 [00:00<00:00, 171.90it/s]\n"
     ]
    },
    {
     "name": "stdout",
     "output_type": "stream",
     "text": [
      "Entering Epoch:  43\n"
     ]
    },
    {
     "name": "stderr",
     "output_type": "stream",
     "text": [
      "100%|███████████████████████████████████████████████████████████████████████████████████████████| 113/113 [00:00<00:00, 169.24it/s]\n"
     ]
    },
    {
     "name": "stdout",
     "output_type": "stream",
     "text": [
      "Entering Epoch:  44\n"
     ]
    },
    {
     "name": "stderr",
     "output_type": "stream",
     "text": [
      "100%|███████████████████████████████████████████████████████████████████████████████████████████| 113/113 [00:00<00:00, 158.36it/s]\n"
     ]
    },
    {
     "name": "stdout",
     "output_type": "stream",
     "text": [
      "Entering Epoch:  45\n"
     ]
    },
    {
     "name": "stderr",
     "output_type": "stream",
     "text": [
      "100%|███████████████████████████████████████████████████████████████████████████████████████████| 113/113 [00:00<00:00, 169.56it/s]\n"
     ]
    },
    {
     "name": "stdout",
     "output_type": "stream",
     "text": [
      "Entering Epoch:  46\n"
     ]
    },
    {
     "name": "stderr",
     "output_type": "stream",
     "text": [
      "100%|███████████████████████████████████████████████████████████████████████████████████████████| 113/113 [00:00<00:00, 173.40it/s]\n"
     ]
    },
    {
     "name": "stdout",
     "output_type": "stream",
     "text": [
      "Entering Epoch:  47\n"
     ]
    },
    {
     "name": "stderr",
     "output_type": "stream",
     "text": [
      "100%|███████████████████████████████████████████████████████████████████████████████████████████| 113/113 [00:00<00:00, 167.41it/s]\n"
     ]
    },
    {
     "name": "stdout",
     "output_type": "stream",
     "text": [
      "Entering Epoch:  48\n"
     ]
    },
    {
     "name": "stderr",
     "output_type": "stream",
     "text": [
      "100%|███████████████████████████████████████████████████████████████████████████████████████████| 113/113 [00:00<00:00, 178.10it/s]\n"
     ]
    },
    {
     "name": "stdout",
     "output_type": "stream",
     "text": [
      "Entering Epoch:  49\n"
     ]
    },
    {
     "name": "stderr",
     "output_type": "stream",
     "text": [
      "100%|███████████████████████████████████████████████████████████████████████████████████████████| 113/113 [00:00<00:00, 165.32it/s]\n"
     ]
    },
    {
     "name": "stdout",
     "output_type": "stream",
     "text": [
      "Entering Epoch:  50\n"
     ]
    },
    {
     "name": "stderr",
     "output_type": "stream",
     "text": [
      "100%|███████████████████████████████████████████████████████████████████████████████████████████| 113/113 [00:00<00:00, 166.52it/s]\n"
     ]
    },
    {
     "name": "stdout",
     "output_type": "stream",
     "text": [
      "======> epoch: 50/60, Loss:0.0004019361222162843\n",
      "Entering Epoch:  51\n"
     ]
    },
    {
     "name": "stderr",
     "output_type": "stream",
     "text": [
      "100%|███████████████████████████████████████████████████████████████████████████████████████████| 113/113 [00:00<00:00, 158.96it/s]\n"
     ]
    },
    {
     "name": "stdout",
     "output_type": "stream",
     "text": [
      "Entering Epoch:  52\n"
     ]
    },
    {
     "name": "stderr",
     "output_type": "stream",
     "text": [
      "100%|███████████████████████████████████████████████████████████████████████████████████████████| 113/113 [00:00<00:00, 166.15it/s]\n"
     ]
    },
    {
     "name": "stdout",
     "output_type": "stream",
     "text": [
      "Entering Epoch:  53\n"
     ]
    },
    {
     "name": "stderr",
     "output_type": "stream",
     "text": [
      "100%|███████████████████████████████████████████████████████████████████████████████████████████| 113/113 [00:00<00:00, 173.32it/s]\n"
     ]
    },
    {
     "name": "stdout",
     "output_type": "stream",
     "text": [
      "Entering Epoch:  54\n"
     ]
    },
    {
     "name": "stderr",
     "output_type": "stream",
     "text": [
      "100%|███████████████████████████████████████████████████████████████████████████████████████████| 113/113 [00:00<00:00, 164.21it/s]\n"
     ]
    },
    {
     "name": "stdout",
     "output_type": "stream",
     "text": [
      "Entering Epoch:  55\n"
     ]
    },
    {
     "name": "stderr",
     "output_type": "stream",
     "text": [
      "100%|███████████████████████████████████████████████████████████████████████████████████████████| 113/113 [00:00<00:00, 173.63it/s]\n"
     ]
    },
    {
     "name": "stdout",
     "output_type": "stream",
     "text": [
      "Entering Epoch:  56\n"
     ]
    },
    {
     "name": "stderr",
     "output_type": "stream",
     "text": [
      "100%|███████████████████████████████████████████████████████████████████████████████████████████| 113/113 [00:00<00:00, 193.14it/s]\n"
     ]
    },
    {
     "name": "stdout",
     "output_type": "stream",
     "text": [
      "Entering Epoch:  57\n"
     ]
    },
    {
     "name": "stderr",
     "output_type": "stream",
     "text": [
      "100%|███████████████████████████████████████████████████████████████████████████████████████████| 113/113 [00:00<00:00, 180.92it/s]\n"
     ]
    },
    {
     "name": "stdout",
     "output_type": "stream",
     "text": [
      "Entering Epoch:  58\n"
     ]
    },
    {
     "name": "stderr",
     "output_type": "stream",
     "text": [
      "100%|███████████████████████████████████████████████████████████████████████████████████████████| 113/113 [00:00<00:00, 163.08it/s]\n"
     ]
    },
    {
     "name": "stdout",
     "output_type": "stream",
     "text": [
      "Entering Epoch:  59\n"
     ]
    },
    {
     "name": "stderr",
     "output_type": "stream",
     "text": [
      "100%|███████████████████████████████████████████████████████████████████████████████████████████| 113/113 [00:00<00:00, 160.46it/s]\n"
     ]
    },
    {
     "name": "stdout",
     "output_type": "stream",
     "text": [
      "(1024,)\n",
      "(1024,)\n",
      "(1024,)\n"
     ]
    },
    {
     "data": {
      "image/png": "[encoded data removed]",
      "text/plain": [
       "<Figure size 2000x2000 with 18 Axes>"
      ]
     },
     "metadata": {},
     "output_type": "display_data"
    }
   ],
   "source": [
    "\"\"\"\n",
    "Here , we create the trainloaders and testloaders.\n",
    "Also, we transform the images using standard lib functions\n",
    "\"\"\"\n",
    "\n",
    "sample_num = 10\n",
    "\n",
    "# 定义数据集\n",
    "class MyDataset(Dataset):\n",
    "    def __init__(self, data_dir, noisy_dir, is_train):\n",
    "        self.x = None\n",
    "        self.y = None\n",
    "        f_list = os.listdir(data_dir)\n",
    "        if is_train: \n",
    "            for idx in range(min(sample_num, len(f_list))):\n",
    "                # if idx % 2 == 0:\n",
    "                #     continue\n",
    "                if self.x is None:\n",
    "                    self.x = np.load(data_dir + str(idx+1) + '.npy')[:180, :]\n",
    "                    temp = np.load(noisy_dir + str(idx+1) + '.npy')[:180, :]\n",
    "                    random.shuffle(temp)\n",
    "                    self.y = temp\n",
    "                else:\n",
    "                    self.x = np.concatenate((self.x, np.load(data_dir + str(idx+1) + '.npy')[:180, :]))\n",
    "                    temp = np.load(noisy_dir + str(idx+1) + '.npy')[:180, :]\n",
    "                    random.shuffle(temp)\n",
    "                    self.y = np.concatenate((self.y, temp))\n",
    "        else:\n",
    "            for idx in range(min(sample_num, len(f_list))):\n",
    "                if self.x is None:\n",
    "                    self.x = np.load(data_dir + str(idx+1) + '.npy')[:200, :]\n",
    "                    self.y = np.load(noisy_dir + str(idx+1) + '.npy')[:200, :]\n",
    "                else:\n",
    "                    self.x = np.concatenate((self.x, np.load(data_dir + str(idx+1) + '.npy')[:200, :]))\n",
    "                    self.y = np.concatenate((self.y, np.load(noisy_dir + str(idx+1) + '.npy')[:200, :]))\n",
    "        # print(self.y.shape)\n",
    "        # print(self.y)\n",
    "\n",
    "    def __len__(self):\n",
    "        return len(self.x)\n",
    "\n",
    "    def __getitem__(self, idx):\n",
    "        x = self.x[idx]\n",
    "        y = self.y[idx]\n",
    "        return x, y\n",
    "\n",
    "\n",
    "\"\"\"\n",
    "Here, we define the autoencoder model.\n",
    "\"\"\"\n",
    "\n",
    "class denoising_model(nn.Module):\n",
    "    def __init__(self):\n",
    "        super(denoising_model,self).__init__()\n",
    "        self.encoder=nn.Sequential(\n",
    "                      nn.Linear(1024,256),\n",
    "                      nn.ReLU(True),\n",
    "                      nn.Linear(256,128),\n",
    "                      nn.ReLU(True),\n",
    "                      nn.Linear(128,64),\n",
    "                      nn.ReLU(True)\n",
    "\n",
    "                      )\n",
    "\n",
    "        self.decoder=nn.Sequential(\n",
    "                      nn.Linear(64,128),\n",
    "                      nn.ReLU(True),\n",
    "                      nn.Linear(128,256),\n",
    "                      nn.ReLU(True),\n",
    "                      nn.Linear(256,1024),\n",
    "                      nn.Sigmoid(),\n",
    "                      )\n",
    "\n",
    "\n",
    "    def forward(self,x):\n",
    "        x=self.encoder(x)\n",
    "        x=self.decoder(x)\n",
    "\n",
    "        return x\n",
    "\n",
    "#We check whether cuda is available and choose device accordingly\n",
    "if torch.cuda.is_available()==True:\n",
    "    device=\"cuda:0\"\n",
    "else:\n",
    "    device =\"cpu\"\n",
    "\n",
    "for to_dataset,from_dataset in zip([\n",
    "                                        # 'noisy_npy','noisy_npy','noisy_npy',\n",
    "    'noisy_npy',\n",
    "                                        # 'bg_npy','bg_npy','bg_npy',\n",
    "    # 'bg_npy',\n",
    "                                        # 'clean_npy','clean_npy','clean_npy',\n",
    "    # 'clean_npy'\n",
    "                                    ]\n",
    "                                       ,[\n",
    "                                         # 'bg_npy',\n",
    "                                           # 'clean_npy'\n",
    "                                           # ,'new-n-to-c','new-n-to-bg',\n",
    "                                         'noisy_npy',\n",
    "                                           # 'clean_npy','new-bg-to-c','new-bg-to-n',\n",
    "                                         # 'noisy_npy','bg_npy','new-c-to-n',\n",
    "                                           # 'new-c-to-bg'\n",
    "                                       ]):\n",
    "\n",
    "\n",
    "\n",
    "    trainset=MyDataset(\"data/\"+to_dataset+'/', 'data/'+from_dataset+'/', True)\n",
    "    testset=MyDataset(\"data/\"+to_dataset+'/', 'data/'+from_dataset+'/', False)\n",
    "\n",
    "    trainloader=DataLoader(trainset,batch_size=16,shuffle=True)\n",
    "    testloader=DataLoader(testset,batch_size=1,shuffle=True)\n",
    "\n",
    "    tsfms=transforms.Compose([\n",
    "        transforms.ToTensor()\n",
    "    ])\n",
    "\n",
    "    model=denoising_model().to(device)\n",
    "    criterion=nn.MSELoss()\n",
    "    optimizer=optim.SGD(model.parameters(),lr=10,weight_decay=1e-5)\n",
    "\n",
    "\n",
    "    epochs=60\n",
    "    l=len(trainloader)\n",
    "    print(l)\n",
    "    losslist=list()\n",
    "    epochloss=0\n",
    "    running_loss=0\n",
    "    for epoch in range(epochs):\n",
    "\n",
    "        print(\"Entering Epoch: \",epoch)\n",
    "        for dirty,clean in tqdm((trainloader)):\n",
    "\n",
    "            dirty=dirty.view(dirty.size(0),-1).type(torch.FloatTensor)\n",
    "            clean=clean.view(clean.size(0),-1).type(torch.FloatTensor)\n",
    "            dirty,clean=dirty.to(device),clean.to(device)\n",
    "\n",
    "\n",
    "            # print(dirty[0].dtype)\n",
    "\n",
    "            #-----------------Forward Pass----------------------\n",
    "            output=model(dirty)\n",
    "            # print(clean.shape)\n",
    "            loss=criterion(output,clean)\n",
    "            #-----------------Backward Pass---------------------\n",
    "            optimizer.zero_grad()\n",
    "            loss.backward()\n",
    "            optimizer.step()\n",
    "\n",
    "            running_loss+=loss.item()\n",
    "            epochloss+=loss.item()\n",
    "            #-----------------Log-------------------------------\n",
    "            losslist.append(running_loss/l)\n",
    "            running_loss=0\n",
    "        if epoch % 10 == 0:\n",
    "            print(\"======> epoch: {}/{}, Loss:{}\".format(epoch,epochs,loss.item()))\n",
    "\n",
    "    \"\"\"Here, we try to visualize some of the results.\n",
    "      We randomly generate 6 numbers in between 1 and 10k , run them through the model,\n",
    "      and show the results with comparisons\n",
    "\n",
    "     \"\"\"\n",
    "\n",
    "    from pathlib import Path\n",
    "\n",
    "\n",
    "    PATH=str.format(\"autoencoder-{}-{}-100.pth\", from_dataset, to_dataset)\n",
    "    torch.save(model.state_dict(),PATH)  # We save the model state dict at PATH   \n",
    "\n",
    "    f,axes= plt.subplots(6,3,figsize=(20,20))\n",
    "    axes[0,0].set_title(\"Original Image\")\n",
    "    axes[0,1].set_title(\"Dirty Image\")\n",
    "    axes[0,2].set_title(\"Cleaned Image\")\n",
    "\n",
    "    path = Path(str.format(\"data/auto-{}-{}-100/\", from_dataset, to_dataset))\n",
    "    path.mkdir(parents=True, exist_ok=True)\n",
    "    output_list = []\n",
    "    for idx in range(2000):\n",
    "        dirty=testset[idx][0]\n",
    "        clean=testset[idx][1]\n",
    "        # label=testset[test_imgs[idx]][2]\n",
    "        dirty=torch.tensor(dirty).unsqueeze(0).to(torch.float32)\n",
    "        dirty=dirty.to(device)\n",
    "        # print(dirty.shape)  \n",
    "        output=model(dirty)\n",
    "\n",
    "        # output=output.view(1,28,28)\n",
    "        output=output.permute(1,0).squeeze(1)\n",
    "        output=output.detach().cpu().numpy()\n",
    "        output_list.append(output)\n",
    "        if (idx + 1) % 200 == 0:\n",
    "            np.save(str.format(\"data/auto-{}-{}-100/{}\", from_dataset, to_dataset, (idx+1) // 200), np.array(output_list))    \n",
    "            output_list = []\n",
    "\n",
    "    # dirty=dirty.view(1,28,28)\n",
    "    dirty=dirty.permute(1,0).squeeze(1)\n",
    "    dirty=dirty.detach().cpu().numpy()\n",
    "\n",
    "    # clean=clean.permute(1,0).squeeze(1)\n",
    "    # clean=clean.detach().cpu().numpy()\n",
    "    print(clean.shape)\n",
    "    print(dirty.shape)\n",
    "    print(output.shape)\n",
    "    axes[0,0].plot(clean)\n",
    "    axes[0,1].plot(dirty)\n",
    "    axes[0,2].plot(output)"
   ]
  },
  {
   "cell_type": "code",
   "execution_count": null,
   "id": "12405271-2a85-458e-84f4-9530460a31e8",
   "metadata": {},
   "outputs": [],
   "source": []
  }
 ],
 "metadata": {
  "kernelspec": {
   "display_name": "1DCNN",
   "language": "python",
   "name": "1dcnn"
  },
  "language_info": {
   "codemirror_mode": {
    "name": "ipython",
    "version": 3
   },
   "file_extension": ".py",
   "mimetype": "text/x-python",
   "name": "python",
   "nbconvert_exporter": "python",
   "pygments_lexer": "ipython3",
   "version": "3.10.9"
  }
 },
 "nbformat": 4,
 "nbformat_minor": 5
}
